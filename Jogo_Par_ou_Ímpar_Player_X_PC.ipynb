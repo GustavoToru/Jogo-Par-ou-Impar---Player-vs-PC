{
  "nbformat": 4,
  "nbformat_minor": 0,
  "metadata": {
    "colab": {
      "provenance": []
    },
    "kernelspec": {
      "name": "python3",
      "display_name": "Python 3"
    },
    "language_info": {
      "name": "python"
    }
  },
  "cells": [
    {
      "cell_type": "code",
      "execution_count": 40,
      "metadata": {
        "colab": {
          "base_uri": "https://localhost:8080/"
        },
        "id": "J1ThhYAoGm0b",
        "outputId": "cb390128-006a-4c8e-8748-b531757d847f"
      },
      "outputs": [
        {
          "output_type": "stream",
          "name": "stdout",
          "text": [
            "~Jogo Par ou Ímpar~\n",
            "-> Digite o nome do jogador:A\n",
            "A, você vai jogar contra o Computador\n",
            "// A, digite 0 para escolhar PAR ou 1 para escolher ÍMPAR\n",
            "-> A, Você quer par ou ímpar?0\n",
            "//A, você ficou com par e o Computador ficou com ímpar.\n",
            "-> A, escolha um número:7\n",
            "A escolheu o número 7. Já o Computador escolheu o número 7.\n",
            "// A VENCEU!\n"
          ]
        }
      ],
      "source": [
        "print(\"~Jogo Par ou Ímpar~\")\n",
        "jogador1 = input('-> Digite o nome do jogador:')\n",
        "jogador2 = (f'Computador')\n",
        "print(f'{jogador1}, você vai jogar contra o {jogador2}')\n",
        "\n",
        "primeiro_jogador = jogador1\n",
        "segundo_jogador = (f'Computador')\n",
        "\n",
        "if primeiro_jogador == \"1\":\n",
        "  primeiro_jogador = jogador1\n",
        "  segundo_jogador = jogador2\n",
        "elif primeiro_jogador == \"2\":\n",
        "  primeiro_jogador = jogador2\n",
        "  segundo_jogador = jogador1\n",
        "\n",
        "print(f'// {primeiro_jogador}, digite 0 para escolhar PAR ou 1 para escolher ÍMPAR')\n",
        "escolha = input(f'-> {primeiro_jogador}, Você quer par ou ímpar?')\n",
        "escolha2 = None\n",
        "\n",
        "if escolha == 'ímpar' or escolha == 'impar' or escolha == '1':\n",
        " escolha  = 'ímpar'\n",
        " escolha2 = 'par'\n",
        "elif escolha == 'par' or escolha == '0':\n",
        "  escolha = 'par'\n",
        "  escolha2 = 'ímpar'\n",
        "\n",
        "print(f'//{primeiro_jogador}, você ficou com {escolha} e o {segundo_jogador} ficou com {escolha2}.')\n",
        "\n",
        "from random import randint\n",
        "\n",
        "numero1 = int(input(f'-> {primeiro_jogador}, escolha um número:'))\n",
        "numero2 = randint(0,10)\n",
        "\n",
        "print(f'{primeiro_jogador} escolheu o número {numero1}. Já o {segundo_jogador} escolheu o número {numero2}.')\n",
        "\n",
        "soma = numero1 + numero2\n",
        "\n",
        "if soma % 2 == 0:\n",
        "  vencedor = 'par'\n",
        "else:\n",
        "  vencedor = 'ímpar'\n",
        "\n",
        "if vencedor == escolha:\n",
        "  print(f'// {primeiro_jogador} VENCEU!')\n",
        "else:\n",
        "  print(f'{segundo_jogador} VENCEU!')"
      ]
    },
    {
      "cell_type": "code",
      "source": [],
      "metadata": {
        "id": "D0jQpizxH5kO"
      },
      "execution_count": null,
      "outputs": []
    }
  ]
}